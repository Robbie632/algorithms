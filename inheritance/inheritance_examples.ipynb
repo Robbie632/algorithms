{
 "cells": [
  {
   "cell_type": "code",
   "execution_count": null,
   "metadata": {},
   "outputs": [],
   "source": []
  },
  {
   "cell_type": "markdown",
   "metadata": {},
   "source": [
    "### single inheritance"
   ]
  },
  {
   "cell_type": "code",
   "execution_count": 1,
   "metadata": {},
   "outputs": [],
   "source": [
    "class Shape:\n",
    "    \n",
    "    def __init__(self, color):\n",
    "        self.color = color\n",
    "        \n",
    "class Prism(Shape):\n",
    "    \n",
    "    # use __init__ to list all attributes, start first with parents then followed by childs\n",
    "    def __init__(self, color, shape_type):\n",
    "        \n",
    "        \n",
    "        # use super to do __init__ with parents attribute\n",
    "        super().__init__(color)\n",
    "        self.shape_type = shape_type\n"
   ]
  },
  {
   "cell_type": "code",
   "execution_count": 2,
   "metadata": {},
   "outputs": [],
   "source": [
    "a = Prism('red','prism')"
   ]
  },
  {
   "cell_type": "code",
   "execution_count": 3,
   "metadata": {},
   "outputs": [
    {
     "data": {
      "text/plain": [
       "'red'"
      ]
     },
     "execution_count": 3,
     "metadata": {},
     "output_type": "execute_result"
    }
   ],
   "source": [
    "a.color"
   ]
  },
  {
   "cell_type": "code",
   "execution_count": 4,
   "metadata": {},
   "outputs": [
    {
     "data": {
      "text/plain": [
       "'prism'"
      ]
     },
     "execution_count": 4,
     "metadata": {},
     "output_type": "execute_result"
    }
   ],
   "source": [
    "a.shape_type"
   ]
  },
  {
   "cell_type": "markdown",
   "metadata": {},
   "source": [
    "### multi-inheritance "
   ]
  },
  {
   "cell_type": "code",
   "execution_count": 126,
   "metadata": {},
   "outputs": [],
   "source": [
    "class Vehicle:\n",
    "    \n",
    "    def __init__(self, vehicle_type):\n",
    "        self.vehicle_type = vehicle_type\n",
    "        \n",
    "        \n",
    "        \n",
    "class Material:\n",
    "    \n",
    "    def __init__(self, material_type):\n",
    "        \n",
    "        self.material_type = material_type\n",
    "        \n",
    "    def parent_function(self):\n",
    "        print('parent function')\n",
    "        \n",
    "class childA(Vehicle, Material):\n",
    "    \n",
    "    def __init__(self, vehicle_type, material_type):\n",
    "        \n",
    "        #just replace the super() argument with the name of the class being inherited\n",
    "        Vehicle.__init__(self, vehicle_type)\n",
    "        Material.__init__(self, material_type)\n",
    "        \n",
    "        \n",
    "    def childA_function(self):\n",
    "        print('child a function')"
   ]
  },
  {
   "cell_type": "code",
   "execution_count": 134,
   "metadata": {},
   "outputs": [],
   "source": [
    "my_car = childA('car','metal')"
   ]
  },
  {
   "cell_type": "code",
   "execution_count": 142,
   "metadata": {},
   "outputs": [
    {
     "name": "stdout",
     "output_type": "stream",
     "text": [
      "car\n",
      "metal\n",
      "parent function\n",
      "child a function\n"
     ]
    }
   ],
   "source": [
    "print(my_car.vehicle_type)\n",
    "print(my_car.material_type)\n",
    "my_car.parent_function()\n",
    "my_car.childA_function()"
   ]
  }
 ],
 "metadata": {
  "kernelspec": {
   "display_name": "Python 3",
   "language": "python",
   "name": "python3"
  },
  "language_info": {
   "codemirror_mode": {
    "name": "ipython",
    "version": 3
   },
   "file_extension": ".py",
   "mimetype": "text/x-python",
   "name": "python",
   "nbconvert_exporter": "python",
   "pygments_lexer": "ipython3",
   "version": "3.7.1"
  }
 },
 "nbformat": 4,
 "nbformat_minor": 2
}
