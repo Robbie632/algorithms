{
 "cells": [
  {
   "cell_type": "code",
   "execution_count": null,
   "metadata": {},
   "outputs": [],
   "source": [
    "inheritance"
   ]
  },
  {
   "cell_type": "markdown",
   "metadata": {},
   "source": [
    "### example of multi level inheritance"
   ]
  },
  {
   "cell_type": "code",
   "execution_count": 49,
   "metadata": {},
   "outputs": [],
   "source": [
    "\n",
    "class child:\n",
    "    def __init__(self, child_attribute):\n",
    "        self.child_attribute = child_attribute\n",
    "        \n",
    "    def child_function(self):\n",
    "        print('child function executed')\n"
   ]
  },
  {
   "cell_type": "code",
   "execution_count": 71,
   "metadata": {},
   "outputs": [],
   "source": [
    "class parent(child):\n",
    "    \n",
    "    def __init__(self, child_attribute, parent_attribute):\n",
    "        super().__init__(child_attribute)\n",
    "        \n",
    "        self.parent_attribute = parent_attribute\n",
    "        \n",
    "    def parent_function(self):\n",
    "        print('parent function has been executed')"
   ]
  },
  {
   "cell_type": "code",
   "execution_count": 81,
   "metadata": {},
   "outputs": [],
   "source": [
    "class GrandParent(parent):\n",
    "    \n",
    "    def __init__(self, child_attribute, parent_attribute, grandparent_attribute):\n",
    "        super().__init__(child_attribute, parent_attribute)\n",
    "        self.grandparent_attribute = grandparent_attribute\n",
    "    def grandparent_function(self):\n",
    "        print('grandparent function executed')\n",
    "        "
   ]
  },
  {
   "cell_type": "code",
   "execution_count": 103,
   "metadata": {},
   "outputs": [],
   "source": [
    "class GreatGrandParent(GrandParent):\n",
    "    \n",
    "    #list all inherited and new attributes and new attributes, earliest -> latest (lower -> higher)\n",
    "    def __init__(self, child_attribute, parent_attribute, grandparent_attribute, great_grandparent_attribute):\n",
    "        \n",
    "        #list all inherited attributes only, earliest -> latest (lower -> higher)\n",
    "        super().__init__(child_attribute, parent_attribute, grandparent_attribute)\n",
    "        \n",
    "        #dfine any new attributes as per usual\n",
    "        self.great_grandparent_attribute = great_grandparent_attribute\n",
    "        \n",
    "    #define any new methods as per usual\n",
    "    def great_grandparent_function(self): \n",
    "        print('great_grandparent_function')\n",
    "        "
   ]
  },
  {
   "cell_type": "code",
   "execution_count": 104,
   "metadata": {},
   "outputs": [],
   "source": [
    "a = GreatGrandParent('child_attribute', 'parent_attribute', 'grandparent_attribute', 'great_grandparent_attribute')"
   ]
  },
  {
   "cell_type": "markdown",
   "metadata": {},
   "source": [
    "## multi-inhertiance"
   ]
  },
  {
   "cell_type": "markdown",
   "metadata": {},
   "source": [
    "### in this case one has to use the parent class names"
   ]
  },
  {
   "cell_type": "code",
   "execution_count": 21,
   "metadata": {},
   "outputs": [],
   "source": [
    "class Vehicle:\n",
    "    \n",
    "    def __init__(self, vehicle_type):\n",
    "        self.vehicle_type = vehicle_type\n",
    "        \n",
    "        \n",
    "        \n",
    "class Material:\n",
    "    \n",
    "    def __init__(self, material_type):\n",
    "        \n",
    "        self.material_type = material_type\n",
    "        \n",
    "    def parent_function(self):\n",
    "        print('parent function')\n",
    "        \n",
    "class childA(Vehicle, Material):\n",
    "    \n",
    "    def __init__(self, vehicle_type, material_type):\n",
    "        \n",
    "        #just replace the super() argument with the name of the class being inherited\n",
    "        Vehicle.__init__(self, vehicle_type)\n",
    "        Material.__init__(self, material_type)\n",
    "        \n",
    "        \n",
    "    def childA_function(self):\n",
    "        print('child a function')"
   ]
  },
  {
   "cell_type": "code",
   "execution_count": 22,
   "metadata": {},
   "outputs": [],
   "source": [
    "my_car = childA('car','metal')"
   ]
  },
  {
   "cell_type": "code",
   "execution_count": 23,
   "metadata": {},
   "outputs": [
    {
     "name": "stdout",
     "output_type": "stream",
     "text": [
      "car\n",
      "metal\n",
      "parent function\n",
      "child a function\n"
     ]
    }
   ],
   "source": [
    "print(my_car.vehicle_type)\n",
    "print(my_car.material_type)\n",
    "my_car.parent_function()\n",
    "my_car.childA_function()"
   ]
  },
  {
   "cell_type": "markdown",
   "metadata": {},
   "source": [
    "make 3 classes, class parent -> child -> grandchild\n",
    "give each class one function and one attribute"
   ]
  }
 ],
 "metadata": {
  "kernelspec": {
   "display_name": "Python 3",
   "language": "python",
   "name": "python3"
  },
  "language_info": {
   "codemirror_mode": {
    "name": "ipython",
    "version": 3
   },
   "file_extension": ".py",
   "mimetype": "text/x-python",
   "name": "python",
   "nbconvert_exporter": "python",
   "pygments_lexer": "ipython3",
   "version": "3.7.6"
  }
 },
 "nbformat": 4,
 "nbformat_minor": 4
}
