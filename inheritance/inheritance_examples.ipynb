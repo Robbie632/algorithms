{
 "cells": [
  {
   "cell_type": "markdown",
   "metadata": {},
   "source": [
    "## inheritance"
   ]
  },
  {
   "cell_type": "markdown",
   "metadata": {},
   "source": [
    "### example of multi level inheritance"
   ]
  },
  {
   "cell_type": "code",
   "execution_count": 27,
   "metadata": {},
   "outputs": [],
   "source": [
    "\n",
    "class GrandParent:\n",
    "    def __init__(self, grandparent_attribute):\n",
    "        self.grandparent_attribute = grandparent_attribute\n",
    "        \n",
    "    def grandparent_function(self):\n",
    "        print('grandparent function executed')\n"
   ]
  },
  {
   "cell_type": "code",
   "execution_count": 28,
   "metadata": {},
   "outputs": [],
   "source": [
    "class Parent(GrandParent):\n",
    "    \n",
    "    def __init__(self, grandparent_attribute, parent_attribute):\n",
    "        super().__init__(grandparent_attribute)\n",
    "        \n",
    "        self.parent_attribute = parent_attribute\n",
    "        \n",
    "    def parent_function(self):\n",
    "        print('parent function has been executed')"
   ]
  },
  {
   "cell_type": "code",
   "execution_count": 39,
   "metadata": {},
   "outputs": [],
   "source": [
    "class Child(Parent):\n",
    "    \n",
    "    def __init__(self, grand_parent_attribute, parent_attribute, child_attribute):\n",
    "        super().__init__(grand_parent_attribute, parent_attribute)\n",
    "        self.child_attribute = child_attribute\n",
    "        \n",
    "    def child_function(self):\n",
    "        print('child function executed')\n",
    "        "
   ]
  },
  {
   "cell_type": "code",
   "execution_count": 37,
   "metadata": {},
   "outputs": [],
   "source": [
    "a = Child('a', 'b', 'c')"
   ]
  },
  {
   "cell_type": "code",
   "execution_count": 38,
   "metadata": {},
   "outputs": [
    {
     "data": {
      "text/plain": [
       "'a'"
      ]
     },
     "execution_count": 38,
     "metadata": {},
     "output_type": "execute_result"
    }
   ],
   "source": [
    "a.parent_attribute"
   ]
  },
  {
   "cell_type": "code",
   "execution_count": 43,
   "metadata": {},
   "outputs": [],
   "source": [
    "class GrandChild(Child):\n",
    "    \n",
    "    #list all inherited and new attributes and new attributes, earliest -> latest (lower -> higher)\n",
    "    def __init__(self, child_attribute, parent_attribute, grandparent_attribute, grandchild_attribute):\n",
    "        \n",
    "        #list all inherited attributes only, earliest -> latest (lower -> higher)\n",
    "        super().__init__(child_attribute, parent_attribute, grandparent_attribute)\n",
    "        \n",
    "        #dfine any new attributes as per usual\n",
    "        self.great_grandparent_attribute = grandchild_attribute\n",
    "        \n",
    "    #define any new methods as per usual\n",
    "    def grandchild_function(self): \n",
    "        print('great grandchild function executed')\n",
    "        "
   ]
  },
  {
   "cell_type": "code",
   "execution_count": 44,
   "metadata": {},
   "outputs": [],
   "source": [
    "a = GrandChild('child_attribute', 'parent_attribute', 'grandparent_attribute', 'great_grandparent_attribute')"
   ]
  },
  {
   "cell_type": "code",
   "execution_count": null,
   "metadata": {},
   "outputs": [],
   "source": [
    "a."
   ]
  },
  {
   "cell_type": "markdown",
   "metadata": {},
   "source": [
    "## multi-inhertiance"
   ]
  },
  {
   "cell_type": "markdown",
   "metadata": {},
   "source": [
    "### in this case one has to use the parent class names"
   ]
  },
  {
   "cell_type": "code",
   "execution_count": 45,
   "metadata": {},
   "outputs": [],
   "source": [
    "class Vehicle:\n",
    "    \n",
    "    def __init__(self, vehicle_type):\n",
    "        self.vehicle_type = vehicle_type\n",
    "        \n",
    "        \n",
    "        \n",
    "class Material:\n",
    "    \n",
    "    def __init__(self, material_type):\n",
    "        \n",
    "        self.material_type = material_type\n",
    "        \n",
    "    def parent_function(self):\n",
    "        print('parent function')\n",
    "        \n",
    "class childA(Vehicle, Material):\n",
    "    \n",
    "    def __init__(self, vehicle_type, material_type):\n",
    "        \n",
    "        #just replace the super() argument with the name of the class being inherited\n",
    "        Vehicle.__init__(self, vehicle_type)\n",
    "        Material.__init__(self, material_type)\n",
    "        \n",
    "        \n",
    "    def childA_function(self):\n",
    "        print('child a function')"
   ]
  },
  {
   "cell_type": "code",
   "execution_count": 48,
   "metadata": {},
   "outputs": [],
   "source": [
    "my_car = childA('car', 'metal')"
   ]
  },
  {
   "cell_type": "code",
   "execution_count": 49,
   "metadata": {},
   "outputs": [
    {
     "name": "stdout",
     "output_type": "stream",
     "text": [
      "car\n",
      "metal\n",
      "parent function\n",
      "child a function\n"
     ]
    }
   ],
   "source": [
    "print(my_car.vehicle_type)\n",
    "print(my_car.material_type)\n",
    "my_car.parent_function()\n",
    "my_car.childA_function()"
   ]
  }
 ],
 "metadata": {
  "kernelspec": {
   "display_name": "Python 3",
   "language": "python",
   "name": "python3"
  },
  "language_info": {
   "codemirror_mode": {
    "name": "ipython",
    "version": 3
   },
   "file_extension": ".py",
   "mimetype": "text/x-python",
   "name": "python",
   "nbconvert_exporter": "python",
   "pygments_lexer": "ipython3",
   "version": "3.7.6"
  }
 },
 "nbformat": 4,
 "nbformat_minor": 4
}
