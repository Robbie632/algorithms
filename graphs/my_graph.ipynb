{
 "cells": [
  {
   "cell_type": "code",
   "execution_count": 1,
   "metadata": {},
   "outputs": [],
   "source": [
    "import numpy as np\n",
    "from graph import *\n",
    "from tree_searches import *"
   ]
  },
  {
   "cell_type": "code",
   "execution_count": 2,
   "metadata": {},
   "outputs": [
    {
     "name": "stdout",
     "output_type": "stream",
     "text": [
      "(0, 0)\n",
      "(1, 0)\n",
      "(1, 1)\n",
      "(2, 0)\n",
      "(2, 1)\n",
      "(2, 2)\n",
      "(2, 3)\n",
      "(3, 0)\n",
      "(3, 1)\n",
      "(3, 2)\n",
      "(3, 3)\n",
      "(3, 4)\n",
      "(3, 5)\n",
      "(3, 6)\n",
      "(3, 7)\n"
     ]
    }
   ],
   "source": [
    "graph_input = [[1], [2,3], [4,5,6,7], [8, 9, 10, 11, 12, 13, 14, 15]]\n",
    "mymatrix = make_matrix(graph_input)\n",
    "final_node = (mymatrix.shape[0]-1,mymatrix.shape[1]-1)\n",
    "my_graph_object = GraphDict(mymatrix, MyNode)\n",
    "my_graph_object.fill_graph_dict()\n",
    "top_node = my_graph_object.graph_dict[(0,0)]\n",
    "my_graph_object.add_children()"
   ]
  },
  {
   "cell_type": "code",
   "execution_count": 3,
   "metadata": {},
   "outputs": [],
   "source": [
    "out = preorder_binary_search(top_node)"
   ]
  },
  {
   "cell_type": "code",
   "execution_count": 4,
   "metadata": {},
   "outputs": [
    {
     "data": {
      "text/plain": [
       "[1.0,\n",
       " 2.0,\n",
       " 4.0,\n",
       " 8.0,\n",
       " 9.0,\n",
       " 5.0,\n",
       " 10.0,\n",
       " 11.0,\n",
       " 3.0,\n",
       " 6.0,\n",
       " 12.0,\n",
       " 13.0,\n",
       " 7.0,\n",
       " 14.0,\n",
       " 15.0]"
      ]
     },
     "execution_count": 4,
     "metadata": {},
     "output_type": "execute_result"
    }
   ],
   "source": [
    "out"
   ]
  },
  {
   "cell_type": "code",
   "execution_count": 5,
   "metadata": {},
   "outputs": [],
   "source": [
    "out_2 = inorder_binary_search(top_node)"
   ]
  },
  {
   "cell_type": "code",
   "execution_count": 6,
   "metadata": {},
   "outputs": [
    {
     "data": {
      "text/plain": [
       "[2.0,\n",
       " 4.0,\n",
       " 8.0,\n",
       " 9.0,\n",
       " 5.0,\n",
       " 10.0,\n",
       " 11.0,\n",
       " 1.0,\n",
       " 3.0,\n",
       " 6.0,\n",
       " 12.0,\n",
       " 13.0,\n",
       " 7.0,\n",
       " 14.0,\n",
       " 15.0]"
      ]
     },
     "execution_count": 6,
     "metadata": {},
     "output_type": "execute_result"
    }
   ],
   "source": [
    "out_2"
   ]
  }
 ],
 "metadata": {
  "kernelspec": {
   "display_name": "Python 3",
   "language": "python",
   "name": "python3"
  },
  "language_info": {
   "codemirror_mode": {
    "name": "ipython",
    "version": 3
   },
   "file_extension": ".py",
   "mimetype": "text/x-python",
   "name": "python",
   "nbconvert_exporter": "python",
   "pygments_lexer": "ipython3",
   "version": "3.7.1"
  }
 },
 "nbformat": 4,
 "nbformat_minor": 2
}
