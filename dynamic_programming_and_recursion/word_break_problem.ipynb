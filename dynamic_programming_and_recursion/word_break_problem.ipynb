{
 "cells": [
  {
   "cell_type": "markdown",
   "metadata": {},
   "source": [
    "### recursive solution"
   ]
  },
  {
   "cell_type": "code",
   "execution_count": 1,
   "metadata": {},
   "outputs": [],
   "source": [
    "def break_word(mystring, word_list, output = None):\n",
    "    '''\n",
    "    recursive solution to the word break problem\n",
    "   \n",
    "    Paramaters:\n",
    "    \n",
    "        mystring: string, the string to be tested\n",
    "        word_list: list, list containing words to be checked\n",
    "        output: this is what is returned, nothign needs to be put into the function for this\n",
    "        \n",
    "    Returns:\n",
    "    \n",
    "        string, the solution to the word break problem+\n",
    "   \n",
    "   ''' \n",
    "    \n",
    "    if len(mystring) == 0:\n",
    "        return(output)  \n",
    "    \n",
    "    if output is None:\n",
    "        output = ''\n",
    "        \n",
    "        \n",
    "    for i in range(1, len(mystring)+1):\n",
    "        prefix = mystring[0:i]\n",
    "\n",
    "        if prefix in word_list:\n",
    "            \n",
    "            end = mystring.find(prefix)+len(prefix)\n",
    "\n",
    "            if end == len(mystring):\n",
    "                return(break_word('', word_list=word_list, output= output+ ' '+ prefix))    \n",
    "            else:\n",
    "                return(break_word(mystring = mystring[end:len(mystring)], word_list=word_list, output= output+ ' '+ prefix))\n",
    "            \n",
    "\n",
    "    \n",
    "    "
   ]
  },
  {
   "cell_type": "code",
   "execution_count": 4,
   "metadata": {},
   "outputs": [
    {
     "name": "stdout",
     "output_type": "stream",
     "text": [
      "None\n",
      "CPU times: user 57 µs, sys: 27 µs, total: 84 µs\n",
      "Wall time: 79.9 µs\n"
     ]
    }
   ],
   "source": [
    "%%time\n",
    "print(break_word('ilikeprogamming', ['i', 'like', 'dynamic', 'programming']))"
   ]
  },
  {
   "cell_type": "markdown",
   "metadata": {},
   "source": [
    "### dynamic programming solution"
   ]
  },
  {
   "cell_type": "code",
   "execution_count": null,
   "metadata": {},
   "outputs": [],
   "source": []
  }
 ],
 "metadata": {
  "kernelspec": {
   "display_name": "Python 3",
   "language": "python",
   "name": "python3"
  },
  "language_info": {
   "codemirror_mode": {
    "name": "ipython",
    "version": 3
   },
   "file_extension": ".py",
   "mimetype": "text/x-python",
   "name": "python",
   "nbconvert_exporter": "python",
   "pygments_lexer": "ipython3",
   "version": "3.7.1"
  }
 },
 "nbformat": 4,
 "nbformat_minor": 2
}
