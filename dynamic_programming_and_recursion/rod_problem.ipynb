{
 "cells": [
  {
   "cell_type": "code",
   "execution_count": 3,
   "metadata": {},
   "outputs": [],
   "source": []
  },
  {
   "cell_type": "code",
   "execution_count": 17,
   "metadata": {},
   "outputs": [],
   "source": [
    "def solve_rod_dynamic(t, l_p = {1:3, 2:2, 3:9, 4:2, 5:7, 6:2}):\n",
    "    \n",
    "    '''\n",
    "    solves rod problem:\n",
    "        given a rod of length n and a set of lengths and associaed profits, what\n",
    "        is the maximum total profit that can be made by cutting up the rod\n",
    "        \n",
    "    Paramaters:\n",
    "        t: int, total rod length\n",
    "        l_p: dictionary, with sub lengths as keys and associated profits as values\n",
    "    Returns: \n",
    "        largest profit possible\n",
    "    '''\n",
    "    \n",
    "    import numpy as np\n",
    "    #create DP table\n",
    "    my_array = list(np.zeros(t+1, dtype = int))\n",
    "    \n",
    "    #loop through sublengths\n",
    "    for l in list(l_p.keys()):\n",
    "        #loop through DP array\n",
    "        for i in range(len(my_array)):\n",
    "            #check sublength is less than DP aray value\n",
    "            if l <= i:\n",
    "                #look up prifuts for current DP array and value and the DP calc value\n",
    "                my_array[i] = max(my_array[i], (l_p[l] + my_array[i-l])  )\n",
    "\n",
    "                \n",
    "    print(my_array[len(my_array)-1])\n",
    "            "
   ]
  },
  {
   "cell_type": "code",
   "execution_count": 18,
   "metadata": {},
   "outputs": [
    {
     "name": "stdout",
     "output_type": "stream",
     "text": [
      "18\n"
     ]
    }
   ],
   "source": [
    "solve_rod_dynamic(6)"
   ]
  }
 ],
 "metadata": {
  "kernelspec": {
   "display_name": "Python 3",
   "language": "python",
   "name": "python3"
  },
  "language_info": {
   "codemirror_mode": {
    "name": "ipython",
    "version": 3
   },
   "file_extension": ".py",
   "mimetype": "text/x-python",
   "name": "python",
   "nbconvert_exporter": "python",
   "pygments_lexer": "ipython3",
   "version": "3.7.1"
  }
 },
 "nbformat": 4,
 "nbformat_minor": 2
}
