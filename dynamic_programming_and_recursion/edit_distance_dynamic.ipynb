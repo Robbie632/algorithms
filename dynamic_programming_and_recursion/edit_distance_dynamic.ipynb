{
 "cells": [
  {
   "cell_type": "code",
   "execution_count": 5,
   "metadata": {},
   "outputs": [],
   "source": [
    "import numpy as np"
   ]
  },
  {
   "cell_type": "markdown",
   "metadata": {},
   "source": [
    "calculate edit distance"
   ]
  },
  {
   "cell_type": "code",
   "execution_count": 5,
   "metadata": {},
   "outputs": [],
   "source": [
    "def edit_distance(stringa, stringb):\n",
    "    \n",
    "    M = np.zeros(shape = (len(stringa)+1, len(stringb)+1))\n",
    "\n",
    "\n",
    "    for row in range(M.shape[0]):\n",
    "        \n",
    "        for col in range(M.shape[1]):\n",
    "\n",
    "            if row == 0:\n",
    "                M[row, col]=col\n",
    "                \n",
    "            elif col == 0:\n",
    "                M[row, col]=row\n",
    "                \n",
    "            elif stringa[row-1]==stringb[col-1]:\n",
    "                M[row, col] = min(M[row-1, col], M[row, col-1], M[row-1, col-1])\n",
    "                \n",
    "            else:\n",
    "                M[row, col] = min(M[row-1, col], M[row, col-1], M[row-1, col-1])+1\n",
    "                \n",
    "    solution = M[len(stringa), len(stringb)]\n",
    "    \n",
    "    return(solution, M )"
   ]
  },
  {
   "cell_type": "code",
   "execution_count": 6,
   "metadata": {},
   "outputs": [
    {
     "name": "stdout",
     "output_type": "stream",
     "text": [
      "[[0. 1. 2. 3. 4. 5.]\n",
      " [1. 0. 1. 2. 3. 4.]\n",
      " [2. 1. 0. 1. 2. 3.]\n",
      " [3. 2. 1. 0. 1. 2.]\n",
      " [4. 3. 2. 1. 1. 2.]]\n",
      "2.0\n"
     ]
    }
   ],
   "source": [
    "sol, matrix = edit_distance('abcd', 'abcef')\n",
    "print(matrix)\n",
    "print(sol)"
   ]
  },
  {
   "cell_type": "code",
   "execution_count": null,
   "metadata": {},
   "outputs": [],
   "source": [
    "calculate pathway of edit distance"
   ]
  },
  {
   "cell_type": "code",
   "execution_count": null,
   "metadata": {},
   "outputs": [],
   "source": []
  },
  {
   "cell_type": "markdown",
   "metadata": {},
   "source": [
    "* when initially creating the DP table, record the direction taken so can then use this information to back trace from solution. \n",
    "* I still don't understand this. The below solution is incorrect but it is a starting point\n"
   ]
  },
  {
   "cell_type": "code",
   "execution_count": 92,
   "metadata": {},
   "outputs": [
    {
     "data": {
      "text/plain": [
       "chararray([[b'blan', b'blan', b'blan', b'blan', b'blan', b'blan',\n",
       "            b'blan', b'blan'],\n",
       "           [b'blan', b'blan', b'blan', b'blan', b'blan', b'blan',\n",
       "            b'blan', b'blan'],\n",
       "           [b'blan', b'blan', b'blan', b'blan', b'blan', b'blan',\n",
       "            b'blan', b'blan'],\n",
       "           [b'blan', b'blan', b'blan', b'blan', b'blan', b'blan',\n",
       "            b'blan', b'blan'],\n",
       "           [b'blan', b'blan', b'blan', b'blan', b'blan', b'blan',\n",
       "            b'blan', b'blan'],\n",
       "           [b'blan', b'blan', b'blan', b'blan', b'blan', b'blan',\n",
       "            b'blan', b'blan']], dtype='|S5')"
      ]
     },
     "execution_count": 92,
     "metadata": {},
     "output_type": "execute_result"
    }
   ],
   "source": [
    "stringa = 'rfewf'\n",
    "stringb = 'swedfef'\n",
    "BT = np.chararray((len(stringa)+1, len(stringb)+1), itemsize = 5)\n",
    "BT[:]='blan'\n",
    "BT"
   ]
  },
  {
   "cell_type": "code",
   "execution_count": 134,
   "metadata": {},
   "outputs": [],
   "source": [
    "'''\n",
    "0 = left\n",
    "1=up\n",
    "2=diag\n",
    "'''\n",
    "def edit_distance_traced(stringa, stringb):\n",
    "    \n",
    "    M = np.zeros(shape = (len(stringa)+1, len(stringb)+1))\n",
    "    BT = np.chararray((len(stringa)+1, len(stringb)+1), itemsize = 5) \n",
    "\n",
    "    for row in range(M.shape[0]):\n",
    "        \n",
    "        for col in range(M.shape[1]):\n",
    "\n",
    "            if row == 0:\n",
    "                M[row, col]=col\n",
    "                \n",
    "                BT[row, col] = 'side'\n",
    "            \n",
    "                \n",
    "\n",
    "                \n",
    "            elif col == 0:\n",
    "                M[row, col]=row\n",
    "                BT[row, col] = 'side'\n",
    "                \n",
    "               \n",
    "                \n",
    "\n",
    "                \n",
    "            elif stringa[row-1]==stringb[col-1]:\n",
    "                M[row, col] = min(M[row-1, col], M[row, col-1], M[row-1, col-1])\n",
    "                \n",
    "                if M[row, col] == M[row-1, col]:\n",
    "                    BT[row, col] = 'left'\n",
    "                elif M[row, col] == M[row, col-1]:\n",
    "                    BT[row, col] = 'up'\n",
    "                elif M[row, col] == M[row-1, col-1]:\n",
    "                    BT[row, col]= 'diag'\n",
    "            else:\n",
    "                M[row, col] = min(M[row-1, col], M[row, col-1], M[row-1, col-1])+1\n",
    "                \n",
    "                if M[row, col] == M[row-1, col]:\n",
    "                    BT[row, col] = 'left'\n",
    "                elif M[row, col] == M[row, col-1]:\n",
    "                    BT[row, col] = 'up'\n",
    "                elif M[row, col] == M[row-1, col-1]:\n",
    "                    BT[row, col]= 'diag'\n",
    "                \n",
    "    solution = M[len(stringa), len(stringb)]\n",
    "    \n",
    "    return(solution, M, BT)"
   ]
  },
  {
   "cell_type": "code",
   "execution_count": 135,
   "metadata": {},
   "outputs": [],
   "source": [
    "sol, matrix, traceback = edit_distance_traced('abcd', 'abde')"
   ]
  },
  {
   "cell_type": "code",
   "execution_count": 136,
   "metadata": {},
   "outputs": [
    {
     "data": {
      "text/plain": [
       "array([[0., 1., 2., 3., 4.],\n",
       "       [1., 0., 1., 2., 3.],\n",
       "       [2., 1., 0., 1., 2.],\n",
       "       [3., 2., 1., 1., 2.],\n",
       "       [4., 3., 2., 1., 2.]])"
      ]
     },
     "execution_count": 136,
     "metadata": {},
     "output_type": "execute_result"
    }
   ],
   "source": [
    "matrix"
   ]
  },
  {
   "cell_type": "code",
   "execution_count": 137,
   "metadata": {},
   "outputs": [],
   "source": [
    "import pandas as pd\n",
    "import seaborn as sns"
   ]
  },
  {
   "cell_type": "code",
   "execution_count": 138,
   "metadata": {},
   "outputs": [
    {
     "data": {
      "text/plain": [
       "chararray([[b'side', b'side', b'side', b'side', b'side'],\n",
       "           [b'side', b'diag', b'up', b'up', b'up'],\n",
       "           [b'side', b'left', b'diag', b'up', b'up'],\n",
       "           [b'side', b'left', b'left', b'diag', b'up'],\n",
       "           [b'side', b'left', b'left', b'left', b'up']], dtype='|S5')"
      ]
     },
     "execution_count": 138,
     "metadata": {},
     "output_type": "execute_result"
    }
   ],
   "source": [
    "traceback"
   ]
  },
  {
   "cell_type": "code",
   "execution_count": 87,
   "metadata": {},
   "outputs": [
    {
     "data": {
      "text/plain": [
       "chararray([['', b'e', '', '', '', '', '', ''],\n",
       "           ['', '', '', '', '', '', '', ''],\n",
       "           ['', '', '', '', '', '', '', ''],\n",
       "           ['', '', '', '', '', '', '', ''],\n",
       "           ['', '', '', '', '', '', '', ''],\n",
       "           ['', '', '', '', '', '', '', '']], dtype='|S1')"
      ]
     },
     "execution_count": 87,
     "metadata": {},
     "output_type": "execute_result"
    }
   ],
   "source": [
    "BT[0,1] = 'e'\n",
    "BT"
   ]
  },
  {
   "cell_type": "code",
   "execution_count": 83,
   "metadata": {},
   "outputs": [
    {
     "data": {
      "text/plain": [
       "chararray([['', b'd', '', '', '', '', '', ''],\n",
       "           ['', '', '', '', '', '', '', ''],\n",
       "           ['', '', '', '', '', '', '', ''],\n",
       "           ['', '', '', '', '', '', '', ''],\n",
       "           ['', '', '', '', '', '', '', ''],\n",
       "           ['', '', '', '', '', '', '', '']], dtype='|S1')"
      ]
     },
     "execution_count": 83,
     "metadata": {},
     "output_type": "execute_result"
    }
   ],
   "source": []
  }
 ],
 "metadata": {
  "kernelspec": {
   "display_name": "Python 3",
   "language": "python",
   "name": "python3"
  },
  "language_info": {
   "codemirror_mode": {
    "name": "ipython",
    "version": 3
   },
   "file_extension": ".py",
   "mimetype": "text/x-python",
   "name": "python",
   "nbconvert_exporter": "python",
   "pygments_lexer": "ipython3",
   "version": "3.7.1"
  }
 },
 "nbformat": 4,
 "nbformat_minor": 2
}
