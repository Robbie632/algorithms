{
 "cells": [
  {
   "cell_type": "markdown",
   "metadata": {},
   "source": [
    "## recursice and dynamic programming"
   ]
  },
  {
   "cell_type": "markdown",
   "metadata": {},
   "source": [
    "### recursive programming"
   ]
  },
  {
   "cell_type": "markdown",
   "metadata": {},
   "source": [
    "* The coin change is a famous problem whereby there is a total and a set of coins and the challenge is to choose the minimum number of coins that sum to make the total\n",
    "\n",
    "* Below is a greedy recursive algorithm, notice how in the example below the optimal solution of [13, 13] is not given\n",
    "\n",
    "* This is because at each iteration the algorithm chooses the largest coin that will fit into the left over total. The first largest is 20 and so 13 is missed out"
   ]
  },
  {
   "cell_type": "code",
   "execution_count": 1,
   "metadata": {},
   "outputs": [],
   "source": [
    "def getfewestchange_greedy(total, list_store = None, coins=[50,26, 5,1]):\n",
    "    \n",
    "    #coins need to be inputted as a list in descending order for algo to work\n",
    "\n",
    "\n",
    "    if list_store is None:\n",
    "        list_store = []\n",
    "    if total == 0:\n",
    "        return(list_store)\n",
    "    #loop through selection of coins\n",
    "    for single_coin in coins:\n",
    "        if single_coin <= total:\n",
    "            #append coin to list, this will be a record of coins chosen\n",
    "            list_store.append(single_coin)\n",
    "            \n",
    "            #pass the total minus the coin chosen to the function\n",
    "            return(getfewestchange_greedy(total = total-single_coin, list_store=list_store, coins=coins))\n",
    "        else:\n",
    "            continue\n",
    "        \n",
    "    \n",
    "\n",
    "    "
   ]
  },
  {
   "cell_type": "code",
   "execution_count": 2,
   "metadata": {},
   "outputs": [
    {
     "data": {
      "text/plain": [
       "[50, 1, 1]"
      ]
     },
     "execution_count": 2,
     "metadata": {},
     "output_type": "execute_result"
    }
   ],
   "source": [
    "getfewestchange_greedy(52)"
   ]
  },
  {
   "cell_type": "markdown",
   "metadata": {},
   "source": [
    "The below algorithm is a recursive non-greedy solution, it calculates all possible combinations of coins"
   ]
  },
  {
   "cell_type": "code",
   "execution_count": 3,
   "metadata": {},
   "outputs": [],
   "source": [
    "def getfewestchange_non_greedy(total, prev_value = None, num_coins = None, coins=[50,26, 5,1]):\n",
    "\n",
    "    if total == 0:\n",
    "        return(num_coins)\n",
    "    \n",
    "    if prev_value is None:\n",
    "        prev_value = 0\n",
    "    \n",
    "    min_num_coins=100\n",
    "\n",
    "    \n",
    "    if num_coins is None:\n",
    "        num_coins = 0\n",
    "        \n",
    "    \n",
    "    num_coins += 1\n",
    "    for single_coin in coins:\n",
    "   \n",
    "        if single_coin <= total:\n",
    "            \n",
    "            returned = getfewestchange_non_greedy(total = (total-single_coin), prev_value = prev_value, num_coins= num_coins, coins=coins)\n",
    "\n",
    "            if returned < min_num_coins:\n",
    "                min_num_coins = returned\n",
    "\n",
    "    return(min_num_coins)\n",
    "            \n",
    "\n",
    "\n",
    "                   "
   ]
  },
  {
   "cell_type": "code",
   "execution_count": 7,
   "metadata": {},
   "outputs": [
    {
     "data": {
      "text/plain": [
       "2"
      ]
     },
     "execution_count": 7,
     "metadata": {},
     "output_type": "execute_result"
    }
   ],
   "source": [
    "getfewestchange_non_greedy(52)"
   ]
  },
  {
   "cell_type": "markdown",
   "metadata": {},
   "source": [
    "### dynamic programming\n",
    "\n",
    "* good explanation\n",
    "https://www.youtube.com/watch?v=jgiZlGzXMBw"
   ]
  },
  {
   "cell_type": "code",
   "execution_count": 5,
   "metadata": {},
   "outputs": [],
   "source": [
    "\n",
    "\n",
    "def getfewestchange_dynamic(T, coins=[50,26, 5,1]):\n",
    "    my_array = []\n",
    "    for i in range(T+1):\n",
    "        my_array.append(i)\n",
    "        \n",
    "    for total in my_array:\n",
    "        if total == 0:\n",
    "            continue\n",
    "        else:\n",
    "            for coin in coins:\n",
    "                if coin <= total:\n",
    "                    my_array[total] = min( (my_array[total-coin]+1), my_array[total] ) \n",
    "    return(my_array[T])\n",
    "        \n",
    "    \n",
    "    \n",
    "    \n"
   ]
  },
  {
   "cell_type": "markdown",
   "metadata": {},
   "source": [
    "The dynamic programming approach didn't fall into the trap that the greedy algo did in which the value 26 was missed. It also was much faster than the non-greedy recursive solution"
   ]
  },
  {
   "cell_type": "code",
   "execution_count": 8,
   "metadata": {},
   "outputs": [
    {
     "data": {
      "text/plain": [
       "2"
      ]
     },
     "execution_count": 8,
     "metadata": {},
     "output_type": "execute_result"
    }
   ],
   "source": [
    "getfewestchange_dynamic(52)"
   ]
  }
 ],
 "metadata": {
  "kernelspec": {
   "display_name": "Python 3",
   "language": "python",
   "name": "python3"
  },
  "language_info": {
   "codemirror_mode": {
    "name": "ipython",
    "version": 3
   },
   "file_extension": ".py",
   "mimetype": "text/x-python",
   "name": "python",
   "nbconvert_exporter": "python",
   "pygments_lexer": "ipython3",
   "version": "3.7.1"
  }
 },
 "nbformat": 4,
 "nbformat_minor": 2
}
