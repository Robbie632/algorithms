{
 "cells": [
  {
   "cell_type": "markdown",
   "metadata": {},
   "source": [
    "The triangle problem is that starting at the top of a triangle of numbers and travelling downwards to adjacent numbers, what is the largest running total from top to bottom"
   ]
  },
  {
   "cell_type": "code",
   "execution_count": 143,
   "metadata": {},
   "outputs": [],
   "source": [
    "#   1\n",
    "#  1  2\n",
    "#2  5   4"
   ]
  },
  {
   "cell_type": "markdown",
   "metadata": {},
   "source": [
    "the answer for above would be 8 with the path being 1 -> 2-> 5\n",
    "The solution to this problem could not be brute force as the total number of paths is $2^{n}$ where n is the number of rows in the triangle\n",
    "The problem can be solved in a top down (classically known as bottom up because the standard format is an upside-down triangle) approach using dynamic programming. Briefly the solution is outlined below:\n",
    "* for each level choose the largest number of the two thats above it and replace the current value with the current value added to the chosen value from above\n",
    "* repeat\n",
    "* choose the largest value in the last transformed row"
   ]
  },
  {
   "cell_type": "code",
   "execution_count": 4,
   "metadata": {},
   "outputs": [],
   "source": [
    "import numpy as np"
   ]
  },
  {
   "cell_type": "code",
   "execution_count": 145,
   "metadata": {},
   "outputs": [],
   "source": [
    "M_test = np.array([[4,0,0],\n",
    "              [6,8,0],\n",
    "              [9,7,3]])"
   ]
  },
  {
   "cell_type": "code",
   "execution_count": 146,
   "metadata": {},
   "outputs": [
    {
     "data": {
      "text/plain": [
       "array([[4, 0, 0],\n",
       "       [6, 8, 0],\n",
       "       [9, 7, 3]])"
      ]
     },
     "execution_count": 146,
     "metadata": {},
     "output_type": "execute_result"
    }
   ],
   "source": [
    "M_test"
   ]
  },
  {
   "cell_type": "code",
   "execution_count": 1,
   "metadata": {},
   "outputs": [],
   "source": [
    "def triangle_to_matrix(filepath):\n",
    "    myarray = []\n",
    "    with open(filepath, 'r') as f:\n",
    "        for i in f.readlines():\n",
    "            myarray.insert(len(myarray), i.split())\n",
    "    for count, i in enumerate(myarray):\n",
    "        #pad out triangle lines with zeros to make matrix\n",
    "        myarray[count] = np.pad(i, (0,(99-count)), 'constant')\n",
    "    M = np.array(myarray)\n",
    "    #convert string values to integer values\n",
    "    M = M.astype(np.float)\n",
    "    return(M)"
   ]
  },
  {
   "cell_type": "code",
   "execution_count": 2,
   "metadata": {},
   "outputs": [],
   "source": [
    "def triangle(M):\n",
    "    #loop through rows\n",
    "    for i in range(M.shape[0]):\n",
    "        \n",
    "        #if i ==0 then on top of triangle so no values above\n",
    "        if i != 0:\n",
    "            #loop through columns\n",
    "            for j in range(M.shape[1]):\n",
    "                \n",
    "                \n",
    "                if j == 0:\n",
    "                    #value on edge of triangle so can only add one value from above row\n",
    "                    M[i,j] = M[i,j] + M[i-1, j]\n",
    "\n",
    "\n",
    "                elif i != j:\n",
    "                    #make the current value the largest of the two values in the row above\n",
    "                    M[i,j] = M[i, j] + max(M[i-1, j-1], M[i-1, j]) \n",
    "\n",
    "\n",
    "                elif i == j:\n",
    "                    #value on edge of triangle so can only add one value from above row\n",
    "                    M[i,j] = M[i, j] + M[i-1, j-1] \n",
    "\n",
    "\n",
    "        else:\n",
    "            continue\n",
    "    #return maximum vaue from the last transformed row\n",
    "    return(max(M[M.shape[0] -1, :]))\n",
    "    "
   ]
  },
  {
   "cell_type": "code",
   "execution_count": 5,
   "metadata": {},
   "outputs": [],
   "source": [
    "M = triangle_to_matrix('../../data/triangle.txt')"
   ]
  },
  {
   "cell_type": "code",
   "execution_count": 6,
   "metadata": {},
   "outputs": [],
   "source": [
    "maximum= triangle(M)"
   ]
  },
  {
   "cell_type": "code",
   "execution_count": 7,
   "metadata": {},
   "outputs": [
    {
     "name": "stdout",
     "output_type": "stream",
     "text": [
      "7273.0\n"
     ]
    }
   ],
   "source": [
    "print(maximum)\n"
   ]
  }
 ],
 "metadata": {
  "kernelspec": {
   "display_name": "Python 3",
   "language": "python",
   "name": "python3"
  },
  "language_info": {
   "codemirror_mode": {
    "name": "ipython",
    "version": 3
   },
   "file_extension": ".py",
   "mimetype": "text/x-python",
   "name": "python",
   "nbconvert_exporter": "python",
   "pygments_lexer": "ipython3",
   "version": "3.7.1"
  }
 },
 "nbformat": 4,
 "nbformat_minor": 2
}
